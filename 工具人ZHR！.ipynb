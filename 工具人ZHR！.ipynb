{
 "cells": [
  {
   "cell_type": "code",
   "execution_count": 87,
   "metadata": {},
   "outputs": [
    {
     "name": "stderr",
     "output_type": "stream",
     "text": [
      "D:\\Anaconda3\\lib\\site-packages\\ipykernel_launcher.py:5: FutureWarning: The pandas.datetime class is deprecated and will be removed from pandas in a future version. Import from datetime module instead.\n",
      "  \"\"\"\n"
     ]
    }
   ],
   "source": [
    "import pandas as pd\n",
    "\n",
    "sheet3 = pd.read_excel('./input.xlsx', sheet_name='人效底稿数据')\n",
    "sheet3_dnum = sheet3.shape[0]\n",
    "this_month_start = pd.datetime(2021,8,1)\n",
    "for row_num in range(2,sheet3_dnum):\n",
    "    data = sheet3.loc[row_num].values\n",
    "    output = 0\n",
    "    if data[7]: #当月在职tag\n",
    "        data[13] = 1 #本月有效人力\n",
    "    elif data[8]: #当月离职tag\n",
    "        data[13] = ((data[6] - this_month_start).days)/30 #计算天数\n",
    "    else:\n",
    "        data[13] = 0"
   ]
  },
  {
   "cell_type": "code",
   "execution_count": 88,
   "metadata": {},
   "outputs": [
    {
     "name": "stderr",
     "output_type": "stream",
     "text": [
      "D:\\Anaconda3\\lib\\site-packages\\ipykernel_launcher.py:25: FutureWarning: The pandas.datetime class is deprecated and will be removed from pandas in a future version. Import from datetime module instead.\n"
     ]
    }
   ],
   "source": [
    "import numpy as np\n",
    "\n",
    "def get_pdata(data):#获取地区和人效\n",
    "    if data[1] == \"北京\":\n",
    "        return 0, data[12]\n",
    "    if data[1] == \"河南\":\n",
    "        return 1, data[12]\n",
    "    if data[1] == \"河北\":\n",
    "        return 2, data[12]\n",
    "    \n",
    "\n",
    "def get_month(begin,end):\n",
    "    begin_year, end_year = begin.year, end.year\n",
    "    begin_month, end_month = begin.month, end.month\n",
    "    if begin_year == end_year:\n",
    "        months = end_month -  begin_month\n",
    "    else:\n",
    "        months = (end_year - begin_year) * 12 + end_month - begin_month\n",
    "    return months\n",
    "\n",
    "sheet4 = pd.read_excel('./input.xlsx', sheet_name='人效需要呈现数据')\n",
    "pwrite_numpy = np.zeros((3, 4), dtype = float)\n",
    "nwrite_numpy = np.zeros((3, 4), dtype = float)\n",
    "job_type = [\"城市经理\", \"城市经理（进店）\"]\n",
    "this_month_end = pd.datetime(2021,8,31)\n",
    "for row_num in range(2,sheet3_dnum):\n",
    "    data = sheet3.loc[row_num].values\n",
    "    if data[0] == False and (data[3] in job_type): #在职\n",
    "        if data[8]:\n",
    "            months = get_month(data[5], data[6])\n",
    "        else:\n",
    "            months = get_month(data[5], this_month_end)\n",
    "        (w_row, pdata) = get_pdata(data)\n",
    "        #print(row, months, pdata)\n",
    "        if months <= 2:\n",
    "            pwrite_numpy[w_row,0] += pdata\n",
    "            nwrite_numpy[w_row,0] += 1\n",
    "        elif months <= 6:\n",
    "            pwrite_numpy[w_row,1] += pdata\n",
    "            nwrite_numpy[w_row,1] += 1\n",
    "        elif months <= 12:\n",
    "            pwrite_numpy[w_row,2] += pdata\n",
    "            nwrite_numpy[w_row,2] += 1\n",
    "        else:\n",
    "            pwrite_numpy[w_row,3] += pdata\n",
    "            nwrite_numpy[w_row,3] += 1\n",
    "            \n",
    "for row_num in range(5,8):\n",
    "    for col_num in range(6,10):\n",
    "        sheet4.iloc[row_num,col_num] = pwrite_numpy[row_num-5, col_num-6]\n",
    "    for col_num in range(10,14):\n",
    "        sheet4.iloc[row_num,col_num] = nwrite_numpy[row_num-5, col_num-10] * sheet4.iloc[row_num,1] / pwrite_numpy[row_num-5, col_num-10]\n",
    "\n",
    "   "
   ]
  },
  {
   "cell_type": "code",
   "execution_count": 89,
   "metadata": {
    "scrolled": true
   },
   "outputs": [],
   "source": [
    "writer = pd.ExcelWriter(\"./output.xlsx\")\n",
    "sheet3.to_excel(writer, sheet_name = '人效底稿数据')\n",
    "sheet4.to_excel(writer, sheet_name = '人效需要呈现数据')\n",
    "writer.save()\n",
    "writer.close()"
   ]
  },
  {
   "cell_type": "code",
   "execution_count": null,
   "metadata": {},
   "outputs": [],
   "source": []
  }
 ],
 "metadata": {
  "kernelspec": {
   "display_name": "Python 3",
   "language": "python",
   "name": "python3"
  },
  "language_info": {
   "codemirror_mode": {
    "name": "ipython",
    "version": 3
   },
   "file_extension": ".py",
   "mimetype": "text/x-python",
   "name": "python",
   "nbconvert_exporter": "python",
   "pygments_lexer": "ipython3",
   "version": "3.7.6"
  }
 },
 "nbformat": 4,
 "nbformat_minor": 4
}
